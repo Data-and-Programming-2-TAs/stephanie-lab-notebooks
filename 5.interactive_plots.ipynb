{
 "cells": [
  {
   "cell_type": "markdown",
   "metadata": {},
   "source": [
    "# Interactive Plotting"
   ]
  },
  {
   "cell_type": "code",
   "execution_count": null,
   "metadata": {},
   "outputs": [],
   "source": [
    "import pandas as pd\n",
    "import datetime as dt\n",
    "import math\n",
    "from ast import literal_eval\n",
    "import bokeh\n",
    "from bokeh.plotting import figure, show\n",
    "from bokeh.layouts import gridplot\n",
    "from ipywidgets import interact, interact_manual\n",
    "from bokeh.io import output_notebook\n",
    "from bokeh.tile_providers import CARTODBPOSITRON, get_provider\n",
    "from bokeh.models import ColumnDataSource, HoverTool\n",
    "\n",
    "output_notebook()"
   ]
  },
  {
   "cell_type": "markdown",
   "metadata": {},
   "source": [
    "## Data"
   ]
  },
  {
   "cell_type": "markdown",
   "metadata": {},
   "source": [
    "Chicago data portal\n",
    "\n",
    "List of 'L' Stops:\n",
    "https://data.cityofchicago.org/Transportation/CTA-System-Information-List-of-L-Stops-Map/zbnc-zirh\n",
    "Station entry averages:\n",
    "https://data.cityofchicago.org/Transportation/CTA-Ridership-L-Station-Entries-Monthly-Day-Type-A/t2rn-p8d7"
   ]
  },
  {
   "cell_type": "code",
   "execution_count": null,
   "metadata": {},
   "outputs": [],
   "source": [
    "def get_data_chicago(id):\n",
    "    '''\n",
    "    Connect to the chicago data portal API and returns a dataframe\n",
    "    '''\n",
    "    \n",
    "    url = f'https://data.cityofchicago.org/api/views/{id}/rows.csv?accessType=DOWNLOAD'\n",
    "    df = pd.read_csv(url)\n",
    "    \n",
    "    return df"
   ]
  },
  {
   "cell_type": "code",
   "execution_count": null,
   "metadata": {},
   "outputs": [],
   "source": [
    "#Ridership data\n",
    "rides = get_data_chicago('t2rn-p8d7')\n",
    "rides['month_beginning'] = pd.to_datetime(rides['month_beginning'])\n",
    "print(rides.shape)\n",
    "rides.head()"
   ]
  },
  {
   "cell_type": "code",
   "execution_count": null,
   "metadata": {},
   "outputs": [],
   "source": [
    "#CTA Transit Station Location Data\n",
    "stations = get_data_chicago('zbnc-zirh')\n",
    "print(stations.shape)\n",
    "stations.head()"
   ]
  },
  {
   "cell_type": "code",
   "execution_count": null,
   "metadata": {},
   "outputs": [],
   "source": [
    "stations.drop_duplicates(subset='MAP_ID', keep=\"last\", inplace=True)"
   ]
  },
  {
   "cell_type": "markdown",
   "metadata": {},
   "source": [
    "## Bokeh building blocks\n",
    "\n",
    "A Bokeh plot as a series of objects. At the very base layer is a Figure, and on top of it you can add Glyphs.\n",
    "\n",
    "* Figure: grouping of all the elements (i.e. the plot)\n",
    "* Glyphs: basic visual markers that Bokeh can display"
   ]
  },
  {
   "cell_type": "markdown",
   "metadata": {},
   "source": [
    "## Plot ridership by month"
   ]
  },
  {
   "cell_type": "code",
   "execution_count": null,
   "metadata": {},
   "outputs": [],
   "source": [
    "rides_by_month = rides[['month_beginning', 'monthtotal']].groupby('month_beginning').mean()\n",
    "rides_by_month.head()"
   ]
  },
  {
   "cell_type": "code",
   "execution_count": null,
   "metadata": {},
   "outputs": [],
   "source": [
    "plot = figure(title='Average rides per month', x_axis_label='Date', \n",
    "              y_axis_label='Month average', x_axis_type='datetime', plot_height=400)\n",
    "plot.line(rides_by_month.index, rides_by_month['monthtotal'], line_width=4, color='indianred')\n",
    "show(plot)"
   ]
  },
  {
   "cell_type": "markdown",
   "metadata": {},
   "source": [
    "## Plot popular stations"
   ]
  },
  {
   "cell_type": "code",
   "execution_count": null,
   "metadata": {},
   "outputs": [],
   "source": [
    "rides_by_station = rides[['stationame', 'monthtotal']].groupby('stationame').mean()\n",
    "rides_by_station = rides_by_station.sort_values(by='monthtotal', ascending=False).head()\n",
    "rides_by_station"
   ]
  },
  {
   "cell_type": "code",
   "execution_count": null,
   "metadata": {},
   "outputs": [],
   "source": [
    "p = figure(x_range=list(rides_by_station.index), title=\"Top Stations\", plot_height=250)\n",
    "p.vbar(x=rides_by_station.index, top=rides_by_station['monthtotal'], width=0.9)\n",
    "\n",
    "p.xgrid.grid_line_color = None\n",
    "p.y_range.start = 0\n",
    "\n",
    "show(p)"
   ]
  },
  {
   "cell_type": "code",
   "execution_count": null,
   "metadata": {},
   "outputs": [],
   "source": [
    "# add range slider\n",
    "\n",
    "def plot_stations(df, num_bars):\n",
    "    rides_by_station = df[['stationame', 'monthtotal']].groupby('stationame').mean()\n",
    "    rides_by_station = rides_by_station.sort_values(by='monthtotal', ascending=False).head(num_bars)\n",
    "    \n",
    "    plot = figure(x_range=list(rides_by_station.index), title=\"Top Stations\", plot_height=350)\n",
    "    plot.vbar(x=rides_by_station.index, top=rides_by_station['monthtotal'], width=0.9)\n",
    "    \n",
    "    plot.xaxis.major_label_orientation = \"vertical\"\n",
    "    plot.xgrid.grid_line_color = None\n",
    "    plot.y_range.start = 0\n",
    "    \n",
    "    return plot\n",
    "\n",
    "@interact(value=(0, 40))\n",
    "def make_plot_stations(value=3):\n",
    "    plot = plot_stations(rides, value)\n",
    "    show(plot)"
   ]
  },
  {
   "cell_type": "markdown",
   "metadata": {},
   "source": [
    "## Interactive Maps\n",
    "\n",
    "What part of the city has the most train ridership?"
   ]
  },
  {
   "cell_type": "code",
   "execution_count": null,
   "metadata": {},
   "outputs": [],
   "source": [
    "stations.head()"
   ]
  },
  {
   "cell_type": "markdown",
   "metadata": {},
   "source": [
    "Adding map data to a plot uses the same methodology as adding other types of Glyphs to a Figure. This time  you will be passing in tiles using the add_tiles() command, along with a tile provider as an argument."
   ]
  },
  {
   "cell_type": "code",
   "execution_count": null,
   "metadata": {},
   "outputs": [],
   "source": [
    "tile_provider = get_provider(CARTODBPOSITRON)\n",
    "\n",
    "p = figure(x_range=(-9780000, -9745000), y_range=(5130000, 5160000),\n",
    "           x_axis_type=\"mercator\", y_axis_type=\"mercator\")\n",
    "p.add_tile(tile_provider)\n",
    "show(p)"
   ]
  },
  {
   "cell_type": "markdown",
   "metadata": {},
   "source": [
    "<b>Mercator Projection:</b> The tiles for the map uses the mercator projection. The the spherical coordinates of the earth (latitude and longitude) are projected onto a plane (X and Y coordinates). https://en.wikipedia.org/wiki/Mercator_projection"
   ]
  },
  {
   "cell_type": "code",
   "execution_count": null,
   "metadata": {},
   "outputs": [],
   "source": [
    "def merc(Coords):\n",
    "    '''\n",
    "    Takes a string of latitude and longitude coordinates (like the ones in the dataframe), \n",
    "    and converts them to a tuple of X and Y coordinates.\n",
    "    '''\n",
    "    Coordinates = literal_eval(Coords)\n",
    "    lat = Coordinates[0]\n",
    "    lon = Coordinates[1]\n",
    "    \n",
    "    r_major = 6378137.000\n",
    "    x = r_major * math.radians(lon)\n",
    "    scale = x/lon\n",
    "    y = 180.0/math.pi * math.log(math.tan(math.pi/4.0 + \n",
    "        lat * (math.pi/180.0)/2.0)) * scale\n",
    "    return (x, y)"
   ]
  },
  {
   "cell_type": "code",
   "execution_count": null,
   "metadata": {},
   "outputs": [],
   "source": [
    "stations['coords_x'] = stations['Location'].apply(lambda x: merc(x)[0])\n",
    "stations['coords_y'] = stations['Location'].apply(lambda x: merc(x)[1])\n",
    "stations.head()"
   ]
  },
  {
   "cell_type": "markdown",
   "metadata": {},
   "source": [
    "We now can overlay the stations on the map we created earlier."
   ]
  },
  {
   "cell_type": "code",
   "execution_count": null,
   "metadata": {},
   "outputs": [],
   "source": [
    "tile_provider = get_provider(CARTODBPOSITRON)\n",
    "\n",
    "p = figure(x_range=(-9780000, -9745000), y_range=(5130000, 5160000),\n",
    "           x_axis_type=\"mercator\", y_axis_type=\"mercator\")\n",
    "\n",
    "p.add_tile(tile_provider)\n",
    "\n",
    "p.circle(x = stations['coords_x'],\n",
    "         y = stations['coords_y'])\n",
    "show(p)"
   ]
  },
  {
   "cell_type": "code",
   "execution_count": null,
   "metadata": {},
   "outputs": [],
   "source": [
    "rides = rides[['station_id', 'monthtotal']].groupby('station_id').mean()\n",
    "print(rides.shape)\n",
    "rides.head()"
   ]
  },
  {
   "cell_type": "code",
   "execution_count": null,
   "metadata": {},
   "outputs": [],
   "source": [
    "merged = stations.merge(rides, how='inner', left_on='MAP_ID', right_index=True)\n",
    "print(merged.shape)\n",
    "merged.head()"
   ]
  },
  {
   "cell_type": "code",
   "execution_count": null,
   "metadata": {},
   "outputs": [],
   "source": [
    "#scale the ridership data to the appropriate size circle\n",
    "merged['circle_sizes'] = merged['monthtotal'] / 10000"
   ]
  },
  {
   "cell_type": "code",
   "execution_count": null,
   "metadata": {},
   "outputs": [],
   "source": [
    "tile_provider = get_provider(CARTODBPOSITRON)\n",
    "\n",
    "p = figure(x_range=(-9780000, -9745000), y_range=(5130000, 5160000),\n",
    "           x_axis_type=\"mercator\", y_axis_type=\"mercator\")\n",
    "\n",
    "p.add_tile(tile_provider)\n",
    "\n",
    "p.circle(x=merged['coords_x'],\n",
    "         y=merged['coords_y'], \n",
    "         size=merged['circle_sizes'],\n",
    "         line_color=\"#FF0000\", \n",
    "         fill_color=\"#FF0000\",\n",
    "         fill_alpha=0.05)\n",
    "\n",
    "show(p)"
   ]
  },
  {
   "cell_type": "markdown",
   "metadata": {},
   "source": [
    "Bokeh has interactive tools that can be used to report information. We can use the <b>Hover Tool</b> to overlay information about each station when a user hovers over a circle."
   ]
  },
  {
   "cell_type": "code",
   "execution_count": null,
   "metadata": {},
   "outputs": [],
   "source": [
    "def map_ridership(df):\n",
    "    \n",
    "    tile_provider = get_provider(CARTODBPOSITRON)\n",
    "\n",
    "\n",
    "    source = ColumnDataSource(data=dict(\n",
    "                            x=list(df['coords_x']), \n",
    "                            y=list(df['coords_y']),\n",
    "                            ridership=list(merged['monthtotal']),\n",
    "                            sizes=list(df['circle_sizes']),\n",
    "                            stationname=list(df['STATION_NAME'])))\n",
    "\n",
    "    hover = HoverTool(tooltips=[\n",
    "        (\"station\", \"@stationname\"),\n",
    "        (\"ridership\",\"@ridership\")\n",
    "    \n",
    "    ])\n",
    "\n",
    "    p = figure(x_axis_type=\"mercator\", \n",
    "               y_axis_type=\"mercator\",\n",
    "               tools=[hover, 'wheel_zoom','save'])\n",
    "\n",
    "    p.add_tile(get_provider(tile_provider))\n",
    "\n",
    "    p.circle(x='x',\n",
    "             y='y', \n",
    "             source=source,\n",
    "             size='sizes',\n",
    "             line_color=\"#FF0000\", \n",
    "             fill_color=\"#FF0000\",\n",
    "             fill_alpha=0.05)\n",
    "    return p\n",
    "    \n",
    "plot = map_ridership(merged)\n",
    "show(plot)"
   ]
  },
  {
   "cell_type": "code",
   "execution_count": null,
   "metadata": {},
   "outputs": [],
   "source": []
  }
 ],
 "metadata": {
  "kernelspec": {
   "display_name": "Python 3",
   "language": "python",
   "name": "python3"
  },
  "language_info": {
   "codemirror_mode": {
    "name": "ipython",
    "version": 3
   },
   "file_extension": ".py",
   "mimetype": "text/x-python",
   "name": "python",
   "nbconvert_exporter": "python",
   "pygments_lexer": "ipython3",
   "version": "3.7.7"
  }
 },
 "nbformat": 4,
 "nbformat_minor": 4
}
