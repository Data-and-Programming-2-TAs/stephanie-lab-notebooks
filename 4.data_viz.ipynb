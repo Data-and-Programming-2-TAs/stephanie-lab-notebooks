{
 "cells": [
  {
   "cell_type": "markdown",
   "metadata": {},
   "source": [
    "# Data Visualization\n",
    "\n",
    "The aviation accident database throughout the world, from 1908-2019.\n",
    "\n",
    "* All civil and commercial aviation accidents of scheduled and non-scheduled passenger airliners worldwide, which resulted in a fatality (including all U.S. Part 121 and Part 135 fatal accidents)\n",
    "* All cargo, positioning, ferry and test flight fatal accidents.\n",
    "* All military transport accidents with 10 or more fatalities.\n",
    "* All commercial and military helicopter accidents with greater than 10 fatalities.\n",
    "* All civil and military airship accidents involving fatalities.\n",
    "* Aviation accidents involving the death of famous people.\n",
    "* Aviation accidents or incidents of noteworthy interest.\n",
    "\n",
    "Data was scrapped from the Plane Crash info website (http://www.planecrashinfo.com/database.htm)\n",
    "\n",
    "You can download this dataset from https://www.kaggle.com/cgurkan/airplane-crash-data-since-1908"
   ]
  },
  {
   "cell_type": "markdown",
   "metadata": {},
   "source": [
    "## Data Cleaning"
   ]
  },
  {
   "cell_type": "code",
   "execution_count": null,
   "metadata": {},
   "outputs": [],
   "source": [
    "import pandas as pd\n",
    "import matplotlib.pyplot as plt\n",
    "import matplotlib.gridspec as gridspec\n",
    "import seaborn as sns\n",
    "import numpy as np\n",
    "import datetime as dt\n",
    "\n",
    "df = pd.read_csv('Airplane_Crashes.csv')"
   ]
  },
  {
   "cell_type": "code",
   "execution_count": null,
   "metadata": {},
   "outputs": [],
   "source": [
    "print(df.shape)\n",
    "df.head()"
   ]
  },
  {
   "cell_type": "code",
   "execution_count": null,
   "metadata": {},
   "outputs": [],
   "source": [
    "dict_errors = {'c: ':'', 'c:':'', 'c':'', '12\\'20':'12:20', \n",
    "              '18.40':'18:40', '0943':'09:43', '22\\'08':'22:08', '114:20':'00:00',\n",
    "              '91:5':'9:15', '90:0':'9:00', '24:5':'2:45'}\n",
    "\n",
    "for key,val in dict_errors.items():\n",
    "    df['Time'] = df['Time'].str.replace(key, val)\n",
    "\n",
    "    \n",
    "df['DateTime'] = df['Date'] + ' ' + df['Time']\n",
    "\n",
    "df = df[df['DateTime'].notnull()]\n",
    "\n",
    "df['DateTime'] = pd.to_datetime(df['DateTime'])\n",
    "\n",
    "print(df.shape)\n",
    "df.head()"
   ]
  },
  {
   "cell_type": "code",
   "execution_count": null,
   "metadata": {},
   "outputs": [],
   "source": [
    "df.dtypes"
   ]
  },
  {
   "cell_type": "markdown",
   "metadata": {},
   "source": [
    "# Accidents by year, month, day, hour"
   ]
  },
  {
   "cell_type": "code",
   "execution_count": null,
   "metadata": {},
   "outputs": [],
   "source": [
    "temp = df.groupby(df.DateTime.dt.year)[['DateTime']].count()\n",
    "\n",
    "plt.figure(figsize=(10,5))\n",
    "plt.style.use('bmh')\n",
    "plt.plot(temp.index, 'DateTime', data=temp, color='crimson', marker = \".\", linewidth=1)\n",
    "plt.xlabel('Year', fontsize=10)\n",
    "plt.ylabel('Count', fontsize=10)\n",
    "plt.title('Count of accidents by Year', loc='Center', fontsize=14)\n",
    "plt.show()"
   ]
  },
  {
   "cell_type": "code",
   "execution_count": null,
   "metadata": {},
   "outputs": [],
   "source": [
    "temp_month = df.groupby(df.DateTime.dt.month)[['DateTime']].size().to_frame('Count').reset_index()\n",
    "\n",
    "plt.style.use('bmh')\n",
    "plt.figure(figsize=(10,5))\n",
    "sns.barplot('DateTime', 'Count', data=temp_month, color='slateblue', linewidth=2)\n",
    "plt.xticks(temp_month.index, ['Jan', 'Feb', 'Mar', 'Apr', 'May', 'Jun', 'Jul', 'Aug', 'Sep', 'Oct', 'Nov', 'Dec'])\n",
    "plt.xlabel('Month', fontsize=10)\n",
    "plt.ylabel('Count', fontsize=10)\n",
    "plt.title('Count of accidents by Month', loc='Center', fontsize=14);"
   ]
  },
  {
   "cell_type": "code",
   "execution_count": null,
   "metadata": {},
   "outputs": [],
   "source": [
    "temp_day = df.groupby(df.DateTime.dt.weekday)[['DateTime']].size().to_frame('Count').reset_index()\n",
    "\n",
    "plt.figure(figsize=(10,5))\n",
    "plt.style.use('bmh')\n",
    "sns.barplot('DateTime', 'Count', data=temp_day, color='steelblue', linewidth=2)\n",
    "plt.xticks(temp_day.index, ['Mon', 'Tue', 'Wed', 'Thu', 'Fri', 'Sat', 'Sun'])\n",
    "plt.xlabel('Day', fontsize=10)\n",
    "plt.ylabel('Count', fontsize=10)\n",
    "plt.title('Count of accidents by day', loc='Center', fontsize=14);"
   ]
  },
  {
   "cell_type": "code",
   "execution_count": null,
   "metadata": {},
   "outputs": [],
   "source": [
    "temp_hour = df.groupby(df.DateTime.dt.hour)[['DateTime']].size().to_frame('Count').reset_index()\n",
    "\n",
    "plt.figure(figsize=(10,5))\n",
    "plt.style.use('bmh')\n",
    "sns.barplot('DateTime', 'Count', data=temp_hour, color='indianred', linewidth=2)\n",
    "plt.xticks(temp_hour.index)\n",
    "plt.xlabel('Day', fontsize=10)\n",
    "plt.ylabel('Count', fontsize=10)\n",
    "plt.title('Count of accidents by hour of the day', loc='Center', fontsize=14);"
   ]
  },
  {
   "cell_type": "code",
   "execution_count": null,
   "metadata": {},
   "outputs": [],
   "source": [
    "temp_month = df.groupby(df.DateTime.dt.month)[['DateTime']].size().to_frame('Count').reset_index()\n",
    "temp_day = df.groupby(df.DateTime.dt.weekday)[['DateTime']].size().to_frame('Count').reset_index()\n",
    "temp_hour = df.groupby(df.DateTime.dt.hour)[['DateTime']].size().to_frame('Count').reset_index()\n",
    "\n",
    "fig = plt.figure(figsize=(12,8))\n",
    "grid = gridspec.GridSpec(2, 2)\n",
    "plt.style.use('bmh')\n",
    "\n",
    "#first row\n",
    "ax1 = fig.add_subplot(grid[0, :])\n",
    "sns.barplot('DateTime', 'Count', data=temp_month, color='slateblue', linewidth=2)\n",
    "plt.xticks(temp_month.index, ['Jan', 'Feb', 'Mar', 'Apr', 'May', 'Jun', 'Jul', 'Aug', 'Sep', 'Oct', 'Nov', 'Dec'])\n",
    "plt.xlabel('Month', fontsize=10)\n",
    "plt.ylabel('Count', fontsize=10)\n",
    "plt.title('Count of accidents by Month', loc='Center', fontsize=14);\n",
    "\n",
    "#second row, first column\n",
    "ax2 = fig.add_subplot(grid[1, 0])\n",
    "sns.barplot('DateTime', 'Count', data=temp_day, color='steelblue', linewidth=2)\n",
    "plt.xticks(temp_day.index, ['Mon', 'Tue', 'Wed', 'Thu', 'Fri', 'Sat', 'Sun'])\n",
    "plt.xlabel('Day', fontsize=10)\n",
    "plt.ylabel('Count', fontsize=10)\n",
    "plt.title('Count of accidents by day', loc='Center', fontsize=14);\n",
    "\n",
    "#second row, second column\n",
    "ax3 = fig.add_subplot(grid[1, 1])\n",
    "sns.barplot('DateTime', 'Count', data=temp_hour, color='indianred', linewidth=2)\n",
    "plt.xticks(temp_hour.index)\n",
    "plt.xlabel('Hour', fontsize=10)\n",
    "plt.ylabel('Count', fontsize=10)\n",
    "plt.title('Count of accidents by hour of the day', loc='Center', fontsize=14);"
   ]
  },
  {
   "cell_type": "markdown",
   "metadata": {},
   "source": [
    "## Military vs Passenger Flights"
   ]
  },
  {
   "cell_type": "code",
   "execution_count": null,
   "metadata": {},
   "outputs": [],
   "source": [
    "df['Military'] = df['Operator'].str.contains('Military')\n",
    "df['Passenger'] = df.Military == False\n",
    "temp = df.groupby(df.DateTime.dt.year)[['Military', 'Passenger']].aggregate(np.count_nonzero)\n",
    "temp.head()"
   ]
  },
  {
   "cell_type": "code",
   "execution_count": null,
   "metadata": {},
   "outputs": [],
   "source": [
    "plt.figure(figsize=(12,6))\n",
    "plt.plot(temp.index, 'Military', data=temp, color='forestgreen', marker = \".\", linewidth=1)\n",
    "plt.plot(temp.index, 'Passenger', data=temp, color='crimson', marker = \".\", linewidth=1)\n",
    "plt.legend(fontsize=10)\n",
    "plt.xlabel('Year', fontsize=10)\n",
    "plt.ylabel('Count', fontsize=10)\n",
    "plt.title('Count of accidents by Year', loc='Center', fontsize=14)\n",
    "plt.show()"
   ]
  },
  {
   "cell_type": "markdown",
   "metadata": {},
   "source": [
    "# Fatalities"
   ]
  },
  {
   "cell_type": "code",
   "execution_count": null,
   "metadata": {},
   "outputs": [],
   "source": [
    "fatalities = df.groupby(df.DateTime.dt.year).sum()\n",
    "fatalities.tail()"
   ]
  },
  {
   "cell_type": "code",
   "execution_count": null,
   "metadata": {},
   "outputs": [],
   "source": [
    "# People aboard vs fatalities: fill between\n",
    "\n",
    "plt.figure(figsize=(12,6))\n",
    "plt.fill_between(fatalities.index, 'Aboard', data=fatalities, color=\"skyblue\", alpha=0.2)\n",
    "plt.plot(fatalities.index, 'Aboard', data=fatalities, marker = \".\", color=\"Slateblue\", alpha=0.6, linewidth=1)\n",
    "\n",
    "plt.fill_between(fatalities.index, 'Fatalities', data=fatalities, color=\"olive\", alpha=0.2)\n",
    "plt.plot(fatalities.index, 'Fatalities', data=fatalities, color=\"olive\", marker = \".\", alpha=0.6, linewidth=1)\n",
    "\n",
    "plt.legend(fontsize=10)\n",
    "plt.xlabel('Year', fontsize=10)\n",
    "plt.ylabel('Number of people', fontsize=10)\n",
    "plt.title('Total number of people involved by Year', loc='Center', fontsize=14);"
   ]
  },
  {
   "cell_type": "markdown",
   "metadata": {},
   "source": [
    "## Operators"
   ]
  },
  {
   "cell_type": "code",
   "execution_count": null,
   "metadata": {},
   "outputs": [],
   "source": [
    "total_by_op = df.groupby('Operator').size().to_frame('Count')\n",
    "total_by_op = total_by_op.sort_values(by='Count', ascending=False).head(15)\n",
    "total_by_op.head()"
   ]
  },
  {
   "cell_type": "code",
   "execution_count": null,
   "metadata": {},
   "outputs": [],
   "source": [
    "## Crashes by operator\n",
    "\n",
    "plt.figure(figsize=(12,6))\n",
    "sns.barplot(y=total_by_op.index, x=\"Count\", data=total_by_op, palette=\"gist_heat\", orient='h')\n",
    "plt.xlabel('Count', fontsize=11)\n",
    "plt.ylabel('Operator', fontsize=11)\n",
    "plt.title('Total Crashes by Opeartor', loc='Center', fontsize=14)\n",
    "plt.show()"
   ]
  },
  {
   "cell_type": "code",
   "execution_count": null,
   "metadata": {},
   "outputs": [],
   "source": [
    "fat_by_op = df.groupby('Operator').sum().sort_values(by='Fatalities', ascending=False).head(15)\n",
    "#total_by_op = total_by_op.sort_values(by='Count', ascending=False).head(15)\n",
    "fat_by_op.head()"
   ]
  },
  {
   "cell_type": "code",
   "execution_count": null,
   "metadata": {},
   "outputs": [],
   "source": [
    "## Fatalities by operator\n",
    "\n",
    "plt.figure(figsize=(12,6))\n",
    "sns.barplot(y=fat_by_op.index, x=\"Fatalities\", data=fat_by_op, palette=\"gist_heat\", orient='h')\n",
    "plt.xlabel('Count', fontsize=11)\n",
    "plt.ylabel('Operator', fontsize=11)\n",
    "plt.title('Total Fatalities by Opeartor', loc='Center', fontsize=14)\n",
    "plt.show()"
   ]
  }
 ],
 "metadata": {
  "kernelspec": {
   "display_name": "Python 3",
   "language": "python",
   "name": "python3"
  },
  "language_info": {
   "codemirror_mode": {
    "name": "ipython",
    "version": 3
   },
   "file_extension": ".py",
   "mimetype": "text/x-python",
   "name": "python",
   "nbconvert_exporter": "python",
   "pygments_lexer": "ipython3",
   "version": "3.7.7"
  }
 },
 "nbformat": 4,
 "nbformat_minor": 4
}
