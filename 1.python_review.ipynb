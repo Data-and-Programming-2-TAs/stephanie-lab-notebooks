{
 "cells": [
  {
   "cell_type": "markdown",
   "metadata": {},
   "source": [
    "## Variables and Types"
   ]
  },
  {
   "cell_type": "markdown",
   "metadata": {},
   "source": [
    "You can store a specific value, such as a number or piece of text, in a <b>variable</b> and retrieve that value later on."
   ]
  },
  {
   "cell_type": "code",
   "execution_count": 2,
   "metadata": {},
   "outputs": [
    {
     "name": "stdout",
     "output_type": "stream",
     "text": [
      "Hello, everyone!\n"
     ]
    }
   ],
   "source": [
    "message = 'Hello, everyone!'\n",
    "\n",
    "print(message)"
   ]
  },
  {
   "cell_type": "markdown",
   "metadata": {},
   "source": [
    "Python (and most programming languages) supports three basic types:\n",
    "* <b>Numbers</b>: integer numbers and real numbers"
   ]
  },
  {
   "cell_type": "code",
   "execution_count": 3,
   "metadata": {},
   "outputs": [
    {
     "name": "stdout",
     "output_type": "stream",
     "text": [
      "3\n"
     ]
    },
    {
     "data": {
      "text/plain": [
       "int"
      ]
     },
     "execution_count": 3,
     "metadata": {},
     "output_type": "execute_result"
    }
   ],
   "source": [
    "# Integers\n",
    "a = 3\n",
    "\n",
    "print(a)\n",
    "type(a)"
   ]
  },
  {
   "cell_type": "code",
   "execution_count": 4,
   "metadata": {},
   "outputs": [
    {
     "name": "stdout",
     "output_type": "stream",
     "text": [
      "5.7\n"
     ]
    },
    {
     "data": {
      "text/plain": [
       "float"
      ]
     },
     "execution_count": 4,
     "metadata": {},
     "output_type": "execute_result"
    }
   ],
   "source": [
    "# Real Numbers\n",
    "z = 5.7\n",
    "\n",
    "print(z)\n",
    "type(z)"
   ]
  },
  {
   "cell_type": "markdown",
   "metadata": {},
   "source": [
    "* <b>Strings</b>: text"
   ]
  },
  {
   "cell_type": "code",
   "execution_count": 5,
   "metadata": {},
   "outputs": [
    {
     "name": "stdout",
     "output_type": "stream",
     "text": [
      "Welcome\n",
      "to\n",
      "Data Skills II\n",
      "\n"
     ]
    },
    {
     "data": {
      "text/plain": [
       "str"
      ]
     },
     "execution_count": 5,
     "metadata": {},
     "output_type": "execute_result"
    }
   ],
   "source": [
    "message2 = '''Welcome\n",
    "to\n",
    "Data Skills II\n",
    "'''\n",
    "\n",
    "print(message2)\n",
    "type(message2)"
   ]
  },
  {
   "cell_type": "markdown",
   "metadata": {},
   "source": [
    "* <b>Booleans</b>: truth values (<i>True or False</i>)"
   ]
  },
  {
   "cell_type": "code",
   "execution_count": 6,
   "metadata": {},
   "outputs": [
    {
     "data": {
      "text/plain": [
       "bool"
      ]
     },
     "execution_count": 6,
     "metadata": {},
     "output_type": "execute_result"
    }
   ],
   "source": [
    "t = True\n",
    "f = False\n",
    "\n",
    "type (f)"
   ]
  },
  {
   "cell_type": "markdown",
   "metadata": {},
   "source": [
    "Note: to indicate that a variable has no value we can use the value <b>None</b>."
   ]
  },
  {
   "cell_type": "code",
   "execution_count": 7,
   "metadata": {},
   "outputs": [
    {
     "data": {
      "text/plain": [
       "NoneType"
      ]
     },
     "execution_count": 7,
     "metadata": {},
     "output_type": "execute_result"
    }
   ],
   "source": [
    "age = None\n",
    "type(age)"
   ]
  },
  {
   "cell_type": "markdown",
   "metadata": {},
   "source": [
    "## Expressions"
   ]
  },
  {
   "cell_type": "markdown",
   "metadata": {},
   "source": [
    "An <i>expression</i> is a piece of Python code that gets evaluated to produce a new value"
   ]
  },
  {
   "cell_type": "code",
   "execution_count": 8,
   "metadata": {},
   "outputs": [
    {
     "data": {
      "text/plain": [
       "8"
      ]
     },
     "execution_count": 8,
     "metadata": {},
     "output_type": "execute_result"
    }
   ],
   "source": [
    "a = 6\n",
    "b = 2\n",
    "\n",
    "#Addition\n",
    "a + b"
   ]
  },
  {
   "cell_type": "code",
   "execution_count": 9,
   "metadata": {},
   "outputs": [
    {
     "data": {
      "text/plain": [
       "4"
      ]
     },
     "execution_count": 9,
     "metadata": {},
     "output_type": "execute_result"
    }
   ],
   "source": [
    "#Subtraction\n",
    "a - b"
   ]
  },
  {
   "cell_type": "code",
   "execution_count": 10,
   "metadata": {},
   "outputs": [
    {
     "data": {
      "text/plain": [
       "3.0"
      ]
     },
     "execution_count": 10,
     "metadata": {},
     "output_type": "execute_result"
    }
   ],
   "source": [
    "#Division\n",
    "a / b"
   ]
  },
  {
   "cell_type": "code",
   "execution_count": 11,
   "metadata": {},
   "outputs": [
    {
     "data": {
      "text/plain": [
       "3"
      ]
     },
     "execution_count": 11,
     "metadata": {},
     "output_type": "execute_result"
    }
   ],
   "source": [
    "# integer division\n",
    "a // b"
   ]
  },
  {
   "cell_type": "code",
   "execution_count": 12,
   "metadata": {},
   "outputs": [
    {
     "data": {
      "text/plain": [
       "4"
      ]
     },
     "execution_count": 12,
     "metadata": {},
     "output_type": "execute_result"
    }
   ],
   "source": [
    "# reminder of dividing two numbers\n",
    "10 % 6"
   ]
  },
  {
   "cell_type": "code",
   "execution_count": 13,
   "metadata": {},
   "outputs": [
    {
     "data": {
      "text/plain": [
       "8"
      ]
     },
     "execution_count": 13,
     "metadata": {},
     "output_type": "execute_result"
    }
   ],
   "source": [
    "# exponentiation operator\n",
    "2 ** 3"
   ]
  },
  {
   "cell_type": "code",
   "execution_count": 14,
   "metadata": {},
   "outputs": [
    {
     "data": {
      "text/plain": [
       "'Hello, Everyone!'"
      ]
     },
     "execution_count": 14,
     "metadata": {},
     "output_type": "execute_result"
    }
   ],
   "source": [
    "# string concatenation\n",
    "'Hello' + ', Everyone' + '!'"
   ]
  },
  {
   "cell_type": "code",
   "execution_count": 15,
   "metadata": {},
   "outputs": [
    {
     "name": "stdout",
     "output_type": "stream",
     "text": [
      "a  True\n",
      "b  False\n",
      "c  False\n"
     ]
    }
   ],
   "source": [
    "# relational operators\n",
    "a = 10 > 5\n",
    "b = 10 != 10\n",
    "c = 5 + 5 < 2 * 3\n",
    "\n",
    "print('a ', a)\n",
    "print('b ', b)\n",
    "print('c ', c)"
   ]
  },
  {
   "cell_type": "code",
   "execution_count": 16,
   "metadata": {},
   "outputs": [
    {
     "name": "stdout",
     "output_type": "stream",
     "text": [
      "65  <  66\n"
     ]
    },
    {
     "data": {
      "text/plain": [
       "True"
      ]
     },
     "execution_count": 16,
     "metadata": {},
     "output_type": "execute_result"
    }
   ],
   "source": [
    "# relational operators on strings\n",
    "print(ord('A'), ' < ', ord('B'))\n",
    "\n",
    "\"Alex\" < \"Bob\""
   ]
  },
  {
   "cell_type": "code",
   "execution_count": 17,
   "metadata": {},
   "outputs": [
    {
     "data": {
      "text/plain": [
       "False"
      ]
     },
     "execution_count": 17,
     "metadata": {},
     "output_type": "execute_result"
    }
   ],
   "source": [
    "# and operator\n",
    "a = 5\n",
    "b = - 10\n",
    "\n",
    "a > 0 and b > 0"
   ]
  },
  {
   "cell_type": "code",
   "execution_count": 18,
   "metadata": {},
   "outputs": [
    {
     "data": {
      "text/plain": [
       "True"
      ]
     },
     "execution_count": 18,
     "metadata": {},
     "output_type": "execute_result"
    }
   ],
   "source": [
    "# or operator\n",
    "a > 0 or b > 0 "
   ]
  },
  {
   "cell_type": "code",
   "execution_count": 19,
   "metadata": {},
   "outputs": [
    {
     "data": {
      "text/plain": [
       "True"
      ]
     },
     "execution_count": 19,
     "metadata": {},
     "output_type": "execute_result"
    }
   ],
   "source": [
    "# not operator\n",
    "not (a > 0 and b > 0)"
   ]
  },
  {
   "cell_type": "markdown",
   "metadata": {},
   "source": [
    "## Control Flow Statements"
   ]
  },
  {
   "cell_type": "markdown",
   "metadata": {},
   "source": [
    "We may want the program to run a statement based on the outcome of a previous statement or we may want to repeat a block of statements multiple times."
   ]
  },
  {
   "cell_type": "markdown",
   "metadata": {},
   "source": [
    "* <b>Conditional Statements</b> allow us to run a piece of code only if a given condition is true and run an alternate piece of code if the condition is false."
   ]
  },
  {
   "cell_type": "code",
   "execution_count": 20,
   "metadata": {},
   "outputs": [
    {
     "name": "stdout",
     "output_type": "stream",
     "text": [
      "5 is a positive number\n"
     ]
    }
   ],
   "source": [
    "n = 5\n",
    "\n",
    "if n > 0:\n",
    "    print(n, 'is a positive number')\n",
    "elif n == 0:\n",
    "    print('n is zero')\n",
    "else:\n",
    "    print(n, 'is a negative number')"
   ]
  },
  {
   "cell_type": "code",
   "execution_count": 21,
   "metadata": {},
   "outputs": [
    {
     "name": "stdout",
     "output_type": "stream",
     "text": [
      "6 is even\n"
     ]
    }
   ],
   "source": [
    "n = 6\n",
    "\n",
    "if (n % 2) == 1:\n",
    "    print(n, \"is odd\")\n",
    "else:\n",
    "    print(n, \"is even\")"
   ]
  },
  {
   "cell_type": "markdown",
   "metadata": {},
   "source": [
    "* <b> Sequence-based loops </b> allow us to repeat a piece of code based on a sequence of\n",
    "values"
   ]
  },
  {
   "cell_type": "code",
   "execution_count": 22,
   "metadata": {},
   "outputs": [
    {
     "name": "stdout",
     "output_type": "stream",
     "text": [
      "tax of $ 10 is 1.0\n",
      "tax of $ 25 is 2.5\n",
      "tax of $ 5 is 0.5\n",
      "tax of $ 70 is 7.0\n",
      "tax of $ 10 is 1.0\n",
      "The total tax is $ 12.0\n"
     ]
    }
   ],
   "source": [
    "# Suppose we have a list of prices and want to compute the total tax (10%) \n",
    "# on all the prices\n",
    "\n",
    "prices = [10, 25, 5, 70, 10]\n",
    "\n",
    "total_tax = 0\n",
    "for p in prices:\n",
    "    tax = 0.10 * p\n",
    "    print('tax of $', p, 'is', tax)\n",
    "    total_tax += tax\n",
    "print(\"The total tax is $\", total_tax)"
   ]
  },
  {
   "cell_type": "code",
   "execution_count": 23,
   "metadata": {},
   "outputs": [
    {
     "name": "stdout",
     "output_type": "stream",
     "text": [
      "1 is odd\n",
      "2 is even\n",
      "3 is odd\n",
      "4 is even\n",
      "5 is odd\n",
      "6 is even\n",
      "7 is odd\n",
      "8 is even\n",
      "9 is odd\n",
      "10 is even\n"
     ]
    }
   ],
   "source": [
    "for n in range(1,11):\n",
    "    if (n % 2) == 1:\n",
    "        print(n, \"is odd\")\n",
    "    else:\n",
    "        print(n, \"is even\")"
   ]
  },
  {
   "cell_type": "code",
   "execution_count": 24,
   "metadata": {},
   "outputs": [
    {
     "name": "stdout",
     "output_type": "stream",
     "text": [
      "83 is prime\n"
     ]
    }
   ],
   "source": [
    "# a prime number doesn't have any divisors (other than 1 and itself). is n prime?\n",
    "divisor = False\n",
    "\n",
    "n = 83\n",
    "for i in range(2, n):\n",
    "    if n % i == 0:\n",
    "        divisor = True\n",
    "        # “bail out” of the for loop as soon as we’ve found the answer\n",
    "        break\n",
    "\n",
    "if divisor:\n",
    "    print(n, \"is NOT prime\")\n",
    "else:\n",
    "    print(n, \"is prime\")"
   ]
  },
  {
   "cell_type": "markdown",
   "metadata": {},
   "source": [
    "* <b>Condition-base loops</b> allow us to repeat a piece of code based on whether a boolean expression is true."
   ]
  },
  {
   "cell_type": "code",
   "execution_count": 25,
   "metadata": {},
   "outputs": [
    {
     "name": "stdout",
     "output_type": "stream",
     "text": [
      "55\n"
     ]
    }
   ],
   "source": [
    "# this while loop will add up all of the integers between i and N:\n",
    "\n",
    "N = 10\n",
    "i = 1\n",
    "total = 0\n",
    "\n",
    "while i <= N:\n",
    "    total += i\n",
    "    i += 1\n",
    "print(total)"
   ]
  },
  {
   "cell_type": "markdown",
   "metadata": {},
   "source": [
    "## Functions"
   ]
  },
  {
   "cell_type": "markdown",
   "metadata": {},
   "source": [
    "Functions allow us to name a piece of code and re-use it multiple times with different inputs. In addition to reducing repeated code, we also use functions as building blocks for more complex pieces of code."
   ]
  },
  {
   "cell_type": "code",
   "execution_count": 26,
   "metadata": {},
   "outputs": [],
   "source": [
    "def multiply(a, b):\n",
    "    '''\n",
    "    Compute the product of two values.\n",
    "    \n",
    "    Inputs:\n",
    "    a, b: the values to be multiplied.\n",
    "    \n",
    "    Returns: the product of the inputs\n",
    "    '''\n",
    "    n = a * b\n",
    "    return n"
   ]
  },
  {
   "cell_type": "code",
   "execution_count": 27,
   "metadata": {},
   "outputs": [
    {
     "data": {
      "text/plain": [
       "36"
      ]
     },
     "execution_count": 27,
     "metadata": {},
     "output_type": "execute_result"
    }
   ],
   "source": [
    "multiply(9,4)"
   ]
  },
  {
   "cell_type": "code",
   "execution_count": 28,
   "metadata": {},
   "outputs": [],
   "source": [
    "def is_prime(n):\n",
    "    '''\n",
    "    Determines whether the input is prime.\n",
    "    \n",
    "    Inputs:\n",
    "    n (int): value to be checked\n",
    "    \n",
    "    Returns (boolean): True if the input is prime and False\n",
    "    otherwise\n",
    "    '''\n",
    "    \n",
    "    divisor = False\n",
    "\n",
    "    for i in range(2, n):\n",
    "        if n % i == 0:\n",
    "            divisor = True\n",
    "            break\n",
    "\n",
    "    if divisor:\n",
    "        print(n, \"is NOT prime\")\n",
    "    else:\n",
    "        print(n, \"is prime\")"
   ]
  },
  {
   "cell_type": "code",
   "execution_count": 29,
   "metadata": {},
   "outputs": [
    {
     "name": "stdout",
     "output_type": "stream",
     "text": [
      "85 is NOT prime\n"
     ]
    }
   ],
   "source": [
    "is_prime(85)"
   ]
  },
  {
   "cell_type": "code",
   "execution_count": 30,
   "metadata": {},
   "outputs": [],
   "source": [
    "def absolute(x):\n",
    "    '''\n",
    "    Compute the absolute value of a number.\n",
    "    \n",
    "    Inputs:\n",
    "    n (number): operand\n",
    "    \n",
    "    Returns (number): the magnitude of the input\n",
    "    '''\n",
    "    \n",
    "    if x < 0:\n",
    "        return -x\n",
    "    else:\n",
    "        return x"
   ]
  },
  {
   "cell_type": "code",
   "execution_count": 31,
   "metadata": {},
   "outputs": [
    {
     "name": "stdout",
     "output_type": "stream",
     "text": [
      "5\n"
     ]
    }
   ],
   "source": [
    "result = absolute(-5)\n",
    "print(result)"
   ]
  },
  {
   "cell_type": "markdown",
   "metadata": {},
   "source": [
    "## Data Structures"
   ]
  },
  {
   "cell_type": "markdown",
   "metadata": {},
   "source": [
    "Data structures provide a way of working with collections of values."
   ]
  },
  {
   "cell_type": "markdown",
   "metadata": {},
   "source": [
    "### Lists"
   ]
  },
  {
   "cell_type": "markdown",
   "metadata": {},
   "source": [
    "To create a list, we type the values in the list separated by commas and delimit the beginning and end of the list with square brackets. "
   ]
  },
  {
   "cell_type": "code",
   "execution_count": 32,
   "metadata": {},
   "outputs": [],
   "source": [
    "# creating lists\n",
    "lst0 = [1, 2, 3]\n",
    "lst1 = [4, 5, 6]\n",
    "lst3 = ['C', 'C++', 'Python', 'Java']"
   ]
  },
  {
   "cell_type": "code",
   "execution_count": 33,
   "metadata": {},
   "outputs": [
    {
     "data": {
      "text/plain": [
       "3"
      ]
     },
     "execution_count": 33,
     "metadata": {},
     "output_type": "execute_result"
    }
   ],
   "source": [
    "# accessing elements in a list (index starts at 0!)\n",
    "lst0[2]"
   ]
  },
  {
   "cell_type": "code",
   "execution_count": 34,
   "metadata": {},
   "outputs": [
    {
     "name": "stdout",
     "output_type": "stream",
     "text": [
      "second value of lst3 is C++\n",
      "now second value of lst3 is SQL\n"
     ]
    }
   ],
   "source": [
    "# lists are mutable\n",
    "print('second value of lst3 is', lst3[1])\n",
    "lst3[1] = 'SQL'\n",
    "print('now second value of lst3 is', lst3[1])"
   ]
  },
  {
   "cell_type": "markdown",
   "metadata": {},
   "source": [
    "In addition to accessing a single value from a list, we can also access all of the elements between two specified indexes\n",
    "of a list. This operation is called <i>slicing</i>."
   ]
  },
  {
   "cell_type": "code",
   "execution_count": 35,
   "metadata": {},
   "outputs": [
    {
     "data": {
      "text/plain": [
       "['SQL', 'Python']"
      ]
     },
     "execution_count": 35,
     "metadata": {},
     "output_type": "execute_result"
    }
   ],
   "source": [
    "# list slicing\n",
    "lst3[1:3]"
   ]
  },
  {
   "cell_type": "code",
   "execution_count": 36,
   "metadata": {},
   "outputs": [
    {
     "data": {
      "text/plain": [
       "['C', 'SQL', 'Python']"
      ]
     },
     "execution_count": 36,
     "metadata": {},
     "output_type": "execute_result"
    }
   ],
   "source": [
    "lst3[0:len(lst3)-1]"
   ]
  },
  {
   "cell_type": "markdown",
   "metadata": {},
   "source": [
    "We can use a <i> for loop </i> to process a list element by element."
   ]
  },
  {
   "cell_type": "code",
   "execution_count": 37,
   "metadata": {},
   "outputs": [
    {
     "name": "stdout",
     "output_type": "stream",
     "text": [
      "The price (with tax) is 11.0\n",
      "The price (with tax) is 27.5\n",
      "The price (with tax) is 5.5\n",
      "The price (with tax) is 77.0\n"
     ]
    }
   ],
   "source": [
    "# iterating over a list\n",
    "\n",
    "prices = [10, 25, 5, 70]\n",
    "for p in prices:\n",
    "    tax = 0.10 * p\n",
    "    total = p + tax\n",
    "    print(\"The price (with tax) is\", total)"
   ]
  },
  {
   "cell_type": "markdown",
   "metadata": {},
   "source": [
    "Lists can grow and shrink dynamically."
   ]
  },
  {
   "cell_type": "code",
   "execution_count": 38,
   "metadata": {},
   "outputs": [
    {
     "name": "stdout",
     "output_type": "stream",
     "text": [
      "4\n",
      "5\n"
     ]
    },
    {
     "data": {
      "text/plain": [
       "['C', 'SQL', 'Python', 'Java', 'Ruby']"
      ]
     },
     "execution_count": 38,
     "metadata": {},
     "output_type": "execute_result"
    }
   ],
   "source": [
    "#add element to a list\n",
    "print(len(lst3))\n",
    "\n",
    "lst3.append('Ruby')\n",
    "\n",
    "print(len(lst3))\n",
    "lst3"
   ]
  },
  {
   "cell_type": "code",
   "execution_count": 39,
   "metadata": {},
   "outputs": [
    {
     "data": {
      "text/plain": [
       "'C'"
      ]
     },
     "execution_count": 39,
     "metadata": {},
     "output_type": "execute_result"
    }
   ],
   "source": [
    "#remove element from a list\n",
    "lst3.pop(0)"
   ]
  },
  {
   "cell_type": "code",
   "execution_count": 40,
   "metadata": {},
   "outputs": [
    {
     "data": {
      "text/plain": [
       "['SQL', 'Python', 'Java', 'Ruby']"
      ]
     },
     "execution_count": 40,
     "metadata": {},
     "output_type": "execute_result"
    }
   ],
   "source": [
    "lst3"
   ]
  },
  {
   "cell_type": "markdown",
   "metadata": {},
   "source": [
    "Python includes a special syntax, called a <b><i>list comprehension</i></b> for expressing these frequently-performed types of computations"
   ]
  },
  {
   "cell_type": "code",
   "execution_count": 41,
   "metadata": {},
   "outputs": [
    {
     "name": "stdout",
     "output_type": "stream",
     "text": [
      "[9.0, 13.5, 54.0]\n"
     ]
    }
   ],
   "source": [
    "# create a list of discounted prices (-10%) from a list of prices\n",
    "prices = [10, 15, 60]\n",
    "\n",
    "'''\n",
    "discounted_prices = []\n",
    "for p in prices:\n",
    "    discounted_prices.append(p * 0.9)\n",
    "'''\n",
    "\n",
    "discounted_prices = [p * 0.9 for p in prices]\n",
    "print(discounted_prices)"
   ]
  },
  {
   "cell_type": "markdown",
   "metadata": {},
   "source": [
    "### Tuples"
   ]
  },
  {
   "cell_type": "markdown",
   "metadata": {},
   "source": [
    "Tuples are similar to lists, use parentheses instead of square brakets."
   ]
  },
  {
   "cell_type": "code",
   "execution_count": 42,
   "metadata": {},
   "outputs": [
    {
     "name": "stdout",
     "output_type": "stream",
     "text": [
      "<class 'tuple'>\n"
     ]
    },
    {
     "data": {
      "text/plain": [
       "(100, 200, 300)"
      ]
     },
     "execution_count": 42,
     "metadata": {},
     "output_type": "execute_result"
    }
   ],
   "source": [
    "t = (100, 200, 300)\n",
    "\n",
    "print(type(t))\n",
    "t"
   ]
  },
  {
   "cell_type": "markdown",
   "metadata": {},
   "source": [
    "Many of the operations available on lists are also available on tuples. However, tuples differ from lists in one crucial way: they are immutable. Once a tuple is created, its contents cannot be modified."
   ]
  },
  {
   "cell_type": "code",
   "execution_count": 43,
   "metadata": {},
   "outputs": [
    {
     "name": "stdout",
     "output_type": "stream",
     "text": [
      "3\n",
      "300\n",
      "100\n"
     ]
    }
   ],
   "source": [
    "print(len(t))\n",
    "print(t[2])\n",
    "print(min(t))"
   ]
  },
  {
   "cell_type": "code",
   "execution_count": 44,
   "metadata": {},
   "outputs": [
    {
     "ename": "TypeError",
     "evalue": "'tuple' object does not support item assignment",
     "output_type": "error",
     "traceback": [
      "\u001b[0;31m---------------------------------------------------------------------------\u001b[0m",
      "\u001b[0;31mTypeError\u001b[0m                                 Traceback (most recent call last)",
      "\u001b[0;32m<ipython-input-44-adb5cf76b0f0>\u001b[0m in \u001b[0;36m<module>\u001b[0;34m\u001b[0m\n\u001b[0;32m----> 1\u001b[0;31m \u001b[0mt\u001b[0m\u001b[0;34m[\u001b[0m\u001b[0;36m1\u001b[0m\u001b[0;34m]\u001b[0m \u001b[0;34m=\u001b[0m \u001b[0;36m42\u001b[0m\u001b[0;34m\u001b[0m\u001b[0;34m\u001b[0m\u001b[0m\n\u001b[0m",
      "\u001b[0;31mTypeError\u001b[0m: 'tuple' object does not support item assignment"
     ]
    }
   ],
   "source": [
    " t[1] = 42"
   ]
  },
  {
   "cell_type": "markdown",
   "metadata": {},
   "source": [
    "Tuples are commonly used, especially to return multiple values from a function and to represent related data with different types."
   ]
  },
  {
   "cell_type": "code",
   "execution_count": 45,
   "metadata": {},
   "outputs": [
    {
     "name": "stdout",
     "output_type": "stream",
     "text": [
      "Anne has a salary of 5000\n",
      "Joe has a salary of 3000\n",
      "Carol has a salary of 4500\n"
     ]
    }
   ],
   "source": [
    "salaries = [(\"Anne\", 5000), (\"Joe\", 3000), (\"Carol\", 4500)]\n",
    "\n",
    "for item in salaries:\n",
    "    name = item[0]\n",
    "    salary = item[1]\n",
    "    print(name, \"has a salary of\", salary)"
   ]
  },
  {
   "cell_type": "markdown",
   "metadata": {},
   "source": [
    "### Strings"
   ]
  },
  {
   "cell_type": "markdown",
   "metadata": {},
   "source": [
    "Strings allow us to store sequences of characters."
   ]
  },
  {
   "cell_type": "code",
   "execution_count": 46,
   "metadata": {},
   "outputs": [
    {
     "data": {
      "text/plain": [
       "'H'"
      ]
     },
     "execution_count": 46,
     "metadata": {},
     "output_type": "execute_result"
    }
   ],
   "source": [
    "s1 = 'Hello'\n",
    "\n",
    "s1[0]"
   ]
  },
  {
   "cell_type": "code",
   "execution_count": 47,
   "metadata": {},
   "outputs": [
    {
     "data": {
      "text/plain": [
       "'ell'"
      ]
     },
     "execution_count": 47,
     "metadata": {},
     "output_type": "execute_result"
    }
   ],
   "source": [
    "s1[1:4]"
   ]
  },
  {
   "cell_type": "code",
   "execution_count": 48,
   "metadata": {},
   "outputs": [
    {
     "data": {
      "text/plain": [
       "True"
      ]
     },
     "execution_count": 48,
     "metadata": {},
     "output_type": "execute_result"
    }
   ],
   "source": [
    "\"ll\" in s1"
   ]
  },
  {
   "cell_type": "code",
   "execution_count": 49,
   "metadata": {},
   "outputs": [
    {
     "data": {
      "text/plain": [
       "'HELLO'"
      ]
     },
     "execution_count": 49,
     "metadata": {},
     "output_type": "execute_result"
    }
   ],
   "source": [
    "s1.upper()"
   ]
  },
  {
   "cell_type": "code",
   "execution_count": 50,
   "metadata": {},
   "outputs": [
    {
     "data": {
      "text/plain": [
       "'1,000,000'"
      ]
     },
     "execution_count": 50,
     "metadata": {},
     "output_type": "execute_result"
    }
   ],
   "source": [
    "\"1.000.000\".replace(\".\", \",\")"
   ]
  },
  {
   "cell_type": "code",
   "execution_count": 51,
   "metadata": {},
   "outputs": [
    {
     "data": {
      "text/plain": [
       "['Welcome', 'to', 'Data', 'Skills', 'II']"
      ]
     },
     "execution_count": 51,
     "metadata": {},
     "output_type": "execute_result"
    }
   ],
   "source": [
    "phrase = 'Welcome to Data Skills II'\n",
    "\n",
    "values = phrase.split(\" \")\n",
    "values"
   ]
  },
  {
   "cell_type": "code",
   "execution_count": 52,
   "metadata": {},
   "outputs": [
    {
     "data": {
      "text/plain": [
       "'Welcome|to|Data|Skills|II'"
      ]
     },
     "execution_count": 52,
     "metadata": {},
     "output_type": "execute_result"
    }
   ],
   "source": [
    "\"|\".join(values)"
   ]
  },
  {
   "cell_type": "markdown",
   "metadata": {},
   "source": [
    "To see a full list of methods go to the Python documentation (https://docs.python.org/3/library/string.html)"
   ]
  },
  {
   "cell_type": "markdown",
   "metadata": {},
   "source": [
    "### Dictionaries"
   ]
  },
  {
   "cell_type": "markdown",
   "metadata": {},
   "source": [
    "A dictionary is a collection which is unordered, changeable and indexed. In Python dictionaries are written with curly brackets, and they have keys and values."
   ]
  },
  {
   "cell_type": "code",
   "execution_count": 53,
   "metadata": {},
   "outputs": [
    {
     "data": {
      "text/plain": [
       "{'first_name': 'Jane', 'last_name': 'Doe', 'zip_code': '60637', 'age': 27}"
      ]
     },
     "execution_count": 53,
     "metadata": {},
     "output_type": "execute_result"
    }
   ],
   "source": [
    "d = {\"first_name\": \"Jane\",\n",
    "\"last_name\": \"Doe\",\n",
    "\"zip_code\": \"60637\",\n",
    "\"age\": 27}\n",
    "\n",
    "d"
   ]
  },
  {
   "cell_type": "markdown",
   "metadata": {},
   "source": [
    "We can access the items of a dictionary by referring to its key name, inside square brackets"
   ]
  },
  {
   "cell_type": "code",
   "execution_count": 54,
   "metadata": {},
   "outputs": [
    {
     "data": {
      "text/plain": [
       "'Doe'"
      ]
     },
     "execution_count": 54,
     "metadata": {},
     "output_type": "execute_result"
    }
   ],
   "source": [
    "d['last_name']"
   ]
  },
  {
   "cell_type": "markdown",
   "metadata": {},
   "source": [
    "We can also use a method called get()."
   ]
  },
  {
   "cell_type": "code",
   "execution_count": 55,
   "metadata": {},
   "outputs": [
    {
     "data": {
      "text/plain": [
       "'Doe'"
      ]
     },
     "execution_count": 55,
     "metadata": {},
     "output_type": "execute_result"
    }
   ],
   "source": [
    "d.get(\"last_name\", \"Key doesn't exist\")"
   ]
  },
  {
   "cell_type": "markdown",
   "metadata": {},
   "source": [
    "We can change the value of a specific item by referring to its key name"
   ]
  },
  {
   "cell_type": "code",
   "execution_count": 56,
   "metadata": {},
   "outputs": [
    {
     "data": {
      "text/plain": [
       "{'first_name': 'Jane', 'last_name': 'Doe', 'zip_code': '60637', 'age': 30}"
      ]
     },
     "execution_count": 56,
     "metadata": {},
     "output_type": "execute_result"
    }
   ],
   "source": [
    "d['age'] = 30\n",
    "d"
   ]
  },
  {
   "cell_type": "markdown",
   "metadata": {},
   "source": [
    "We can loop over a dictionary's keys, values or both."
   ]
  },
  {
   "cell_type": "code",
   "execution_count": 57,
   "metadata": {},
   "outputs": [
    {
     "name": "stdout",
     "output_type": "stream",
     "text": [
      "first_name\n",
      "last_name\n",
      "zip_code\n",
      "age\n"
     ]
    }
   ],
   "source": [
    "#print keys\n",
    "for k in d:\n",
    "    print(k)"
   ]
  },
  {
   "cell_type": "code",
   "execution_count": 58,
   "metadata": {},
   "outputs": [
    {
     "name": "stdout",
     "output_type": "stream",
     "text": [
      "Jane\n",
      "Doe\n",
      "60637\n",
      "30\n"
     ]
    }
   ],
   "source": [
    "#print values\n",
    "for v in d.values():\n",
    "    print(v)"
   ]
  },
  {
   "cell_type": "code",
   "execution_count": 59,
   "metadata": {},
   "outputs": [
    {
     "name": "stdout",
     "output_type": "stream",
     "text": [
      "first_name Jane\n",
      "last_name Doe\n",
      "zip_code 60637\n",
      "age 30\n"
     ]
    }
   ],
   "source": [
    "#print keys and values\n",
    "for k,v in d.items():\n",
    "    print(k,v)"
   ]
  },
  {
   "cell_type": "markdown",
   "metadata": {},
   "source": [
    "To determine if a specified key is present in a dictionary use the in keyword."
   ]
  },
  {
   "cell_type": "code",
   "execution_count": 60,
   "metadata": {},
   "outputs": [
    {
     "name": "stdout",
     "output_type": "stream",
     "text": [
      "Yes, 'zip_code' is one of the keys in the this dictionary\n"
     ]
    }
   ],
   "source": [
    "if \"zip_code\" in d:\n",
    "    print(\"Yes, 'zip_code' is one of the keys in the this dictionary\")"
   ]
  },
  {
   "cell_type": "markdown",
   "metadata": {},
   "source": [
    "Adding an item to the dictionary is done by using a new index key and assigning a value to it."
   ]
  },
  {
   "cell_type": "code",
   "execution_count": 61,
   "metadata": {},
   "outputs": [
    {
     "data": {
      "text/plain": [
       "{'first_name': 'Jane',\n",
       " 'last_name': 'Doe',\n",
       " 'zip_code': '60637',\n",
       " 'age': 30,\n",
       " 'email': 'xxx@gmail.com'}"
      ]
     },
     "execution_count": 61,
     "metadata": {},
     "output_type": "execute_result"
    }
   ],
   "source": [
    "d['email'] = 'xxx@gmail.com'\n",
    "d"
   ]
  },
  {
   "cell_type": "markdown",
   "metadata": {},
   "source": [
    "The pop() method removes the item with the specified key name."
   ]
  },
  {
   "cell_type": "code",
   "execution_count": 62,
   "metadata": {},
   "outputs": [
    {
     "data": {
      "text/plain": [
       "{'first_name': 'Jane',\n",
       " 'last_name': 'Doe',\n",
       " 'zip_code': '60637',\n",
       " 'email': 'xxx@gmail.com'}"
      ]
     },
     "execution_count": 62,
     "metadata": {},
     "output_type": "execute_result"
    }
   ],
   "source": [
    "d.pop('age')\n",
    "d"
   ]
  },
  {
   "cell_type": "markdown",
   "metadata": {},
   "source": [
    "## Pandas library"
   ]
  },
  {
   "cell_type": "markdown",
   "metadata": {},
   "source": [
    "Pandas is a Python library built to help work with datasets in Python.  We will explore the basics of Pandas with an example dataset from the Chicago Data Portal at https://data.cityofchicago.org."
   ]
  },
  {
   "cell_type": "markdown",
   "metadata": {},
   "source": [
    "### Crime data"
   ]
  },
  {
   "cell_type": "markdown",
   "metadata": {},
   "source": [
    "Pandas is a Python library built to help work with datasets in Python.  We will explore the basics of Pandas with an example dataset from the Chicago Data Portal at https://data.cityofchicago.org."
   ]
  },
  {
   "cell_type": "code",
   "execution_count": 65,
   "metadata": {},
   "outputs": [],
   "source": [
    "import pandas as pd\n",
    "\n",
    "# Download reported crime data from 2019\n",
    "\n",
    "url = 'https://data.cityofchicago.org/api/views/w98m-zvie/rows.csv?accessType=DOWNLOAD'\n",
    "crimes = pd.read_csv(url)\n",
    "crimes = crimes[['ID', 'Date', 'Primary Type', 'FBI Code', \n",
    "                 'Arrest', 'Community Area', 'Year','Location']]"
   ]
  },
  {
   "cell_type": "markdown",
   "metadata": {},
   "source": [
    "Let's first take a quick look at what this data looks like."
   ]
  },
  {
   "cell_type": "code",
   "execution_count": 66,
   "metadata": {},
   "outputs": [
    {
     "name": "stdout",
     "output_type": "stream",
     "text": [
      "(260194, 8)\n"
     ]
    }
   ],
   "source": [
    "print(crimes.shape)"
   ]
  },
  {
   "cell_type": "code",
   "execution_count": 67,
   "metadata": {},
   "outputs": [
    {
     "data": {
      "text/html": [
       "<div>\n",
       "<style scoped>\n",
       "    .dataframe tbody tr th:only-of-type {\n",
       "        vertical-align: middle;\n",
       "    }\n",
       "\n",
       "    .dataframe tbody tr th {\n",
       "        vertical-align: top;\n",
       "    }\n",
       "\n",
       "    .dataframe thead th {\n",
       "        text-align: right;\n",
       "    }\n",
       "</style>\n",
       "<table border=\"1\" class=\"dataframe\">\n",
       "  <thead>\n",
       "    <tr style=\"text-align: right;\">\n",
       "      <th></th>\n",
       "      <th>ID</th>\n",
       "      <th>Date</th>\n",
       "      <th>Primary Type</th>\n",
       "      <th>FBI Code</th>\n",
       "      <th>Arrest</th>\n",
       "      <th>Community Area</th>\n",
       "      <th>Year</th>\n",
       "      <th>Location</th>\n",
       "    </tr>\n",
       "  </thead>\n",
       "  <tbody>\n",
       "    <tr>\n",
       "      <th>0</th>\n",
       "      <td>12178229</td>\n",
       "      <td>02/01/2019 12:00:00 PM</td>\n",
       "      <td>OTHER OFFENSE</td>\n",
       "      <td>26</td>\n",
       "      <td>False</td>\n",
       "      <td>58</td>\n",
       "      <td>2019</td>\n",
       "      <td>NaN</td>\n",
       "    </tr>\n",
       "    <tr>\n",
       "      <th>1</th>\n",
       "      <td>11923084</td>\n",
       "      <td>06/05/2019 05:02:00 PM</td>\n",
       "      <td>WEAPONS VIOLATION</td>\n",
       "      <td>15</td>\n",
       "      <td>False</td>\n",
       "      <td>73</td>\n",
       "      <td>2019</td>\n",
       "      <td>NaN</td>\n",
       "    </tr>\n",
       "    <tr>\n",
       "      <th>2</th>\n",
       "      <td>11923070</td>\n",
       "      <td>11/29/2019 12:25:00 PM</td>\n",
       "      <td>NARCOTICS</td>\n",
       "      <td>18</td>\n",
       "      <td>True</td>\n",
       "      <td>23</td>\n",
       "      <td>2019</td>\n",
       "      <td>NaN</td>\n",
       "    </tr>\n",
       "    <tr>\n",
       "      <th>3</th>\n",
       "      <td>12178719</td>\n",
       "      <td>12/06/2019 09:00:00 AM</td>\n",
       "      <td>THEFT</td>\n",
       "      <td>06</td>\n",
       "      <td>False</td>\n",
       "      <td>39</td>\n",
       "      <td>2019</td>\n",
       "      <td>NaN</td>\n",
       "    </tr>\n",
       "    <tr>\n",
       "      <th>4</th>\n",
       "      <td>11923066</td>\n",
       "      <td>12/04/2019 11:05:00 AM</td>\n",
       "      <td>NARCOTICS</td>\n",
       "      <td>18</td>\n",
       "      <td>True</td>\n",
       "      <td>29</td>\n",
       "      <td>2019</td>\n",
       "      <td>NaN</td>\n",
       "    </tr>\n",
       "  </tbody>\n",
       "</table>\n",
       "</div>"
      ],
      "text/plain": [
       "         ID                    Date       Primary Type FBI Code  Arrest  \\\n",
       "0  12178229  02/01/2019 12:00:00 PM      OTHER OFFENSE       26   False   \n",
       "1  11923084  06/05/2019 05:02:00 PM  WEAPONS VIOLATION       15   False   \n",
       "2  11923070  11/29/2019 12:25:00 PM          NARCOTICS       18    True   \n",
       "3  12178719  12/06/2019 09:00:00 AM              THEFT       06   False   \n",
       "4  11923066  12/04/2019 11:05:00 AM          NARCOTICS       18    True   \n",
       "\n",
       "   Community Area  Year Location  \n",
       "0              58  2019      NaN  \n",
       "1              73  2019      NaN  \n",
       "2              23  2019      NaN  \n",
       "3              39  2019      NaN  \n",
       "4              29  2019      NaN  "
      ]
     },
     "execution_count": 67,
     "metadata": {},
     "output_type": "execute_result"
    }
   ],
   "source": [
    "crimes.head()"
   ]
  },
  {
   "cell_type": "markdown",
   "metadata": {},
   "source": [
    "Here’s the full first row of the dataset."
   ]
  },
  {
   "cell_type": "code",
   "execution_count": 68,
   "metadata": {},
   "outputs": [
    {
     "data": {
      "text/plain": [
       "ID                              12178229\n",
       "Date              02/01/2019 12:00:00 PM\n",
       "Primary Type               OTHER OFFENSE\n",
       "FBI Code                              26\n",
       "Arrest                             False\n",
       "Community Area                        58\n",
       "Year                                2019\n",
       "Location                             NaN\n",
       "Name: 0, dtype: object"
      ]
     },
     "execution_count": 68,
     "metadata": {},
     "output_type": "execute_result"
    }
   ],
   "source": [
    "crimes.loc[0]"
   ]
  },
  {
   "cell_type": "markdown",
   "metadata": {},
   "source": [
    "We can estract data from a specific column and count the number of times each unique value occurs"
   ]
  },
  {
   "cell_type": "code",
   "execution_count": 69,
   "metadata": {},
   "outputs": [
    {
     "data": {
      "text/plain": [
       "THEFT                                62426\n",
       "BATTERY                              49492\n",
       "CRIMINAL DAMAGE                      26680\n",
       "ASSAULT                              20612\n",
       "DECEPTIVE PRACTICE                   18492\n",
       "OTHER OFFENSE                        16732\n",
       "NARCOTICS                            14923\n",
       "BURGLARY                              9633\n",
       "MOTOR VEHICLE THEFT                   8981\n",
       "ROBBERY                               7989\n",
       "CRIMINAL TRESPASS                     6818\n",
       "WEAPONS VIOLATION                     6338\n",
       "OFFENSE INVOLVING CHILDREN            2314\n",
       "INTERFERENCE WITH PUBLIC OFFICER      1546\n",
       "PUBLIC PEACE VIOLATION                1520\n",
       "SEX OFFENSE                           1302\n",
       "CRIM SEXUAL ASSAULT                   1009\n",
       "PROSTITUTION                           680\n",
       "CRIMINAL SEXUAL ASSAULT                581\n",
       "HOMICIDE                               504\n",
       "ARSON                                  377\n",
       "LIQUOR LAW VIOLATION                   232\n",
       "STALKING                               223\n",
       "CONCEALED CARRY LICENSE VIOLATION      217\n",
       "KIDNAPPING                             172\n",
       "INTIMIDATION                           164\n",
       "GAMBLING                               142\n",
       "OBSCENITY                               59\n",
       "HUMAN TRAFFICKING                       13\n",
       "PUBLIC INDECENCY                        11\n",
       "OTHER NARCOTIC VIOLATION                 8\n",
       "NON-CRIMINAL                             4\n",
       "Name: Primary Type, dtype: int64"
      ]
     },
     "execution_count": 69,
     "metadata": {},
     "output_type": "execute_result"
    }
   ],
   "source": [
    "crimes['Primary Type'].value_counts()"
   ]
  },
  {
   "cell_type": "markdown",
   "metadata": {},
   "source": [
    "We can use the columns attribute to examine the column labels"
   ]
  },
  {
   "cell_type": "code",
   "execution_count": 70,
   "metadata": {},
   "outputs": [
    {
     "data": {
      "text/plain": [
       "Index(['ID', 'Date', 'Primary Type', 'FBI Code', 'Arrest', 'Community Area',\n",
       "       'Year', 'Location'],\n",
       "      dtype='object')"
      ]
     },
     "execution_count": 70,
     "metadata": {},
     "output_type": "execute_result"
    }
   ],
   "source": [
    "crimes.columns"
   ]
  },
  {
   "cell_type": "markdown",
   "metadata": {},
   "source": [
    "<b>What community area reported more crimes in 2019?</b>"
   ]
  },
  {
   "cell_type": "markdown",
   "metadata": {},
   "source": [
    "Let's add a second dataset with the names of the community areas"
   ]
  },
  {
   "cell_type": "code",
   "execution_count": 71,
   "metadata": {},
   "outputs": [
    {
     "name": "stdout",
     "output_type": "stream",
     "text": [
      "(77, 2)\n"
     ]
    },
    {
     "data": {
      "text/html": [
       "<div>\n",
       "<style scoped>\n",
       "    .dataframe tbody tr th:only-of-type {\n",
       "        vertical-align: middle;\n",
       "    }\n",
       "\n",
       "    .dataframe tbody tr th {\n",
       "        vertical-align: top;\n",
       "    }\n",
       "\n",
       "    .dataframe thead th {\n",
       "        text-align: right;\n",
       "    }\n",
       "</style>\n",
       "<table border=\"1\" class=\"dataframe\">\n",
       "  <thead>\n",
       "    <tr style=\"text-align: right;\">\n",
       "      <th></th>\n",
       "      <th>COMMUNITY</th>\n",
       "      <th>AREA_NUM_1</th>\n",
       "    </tr>\n",
       "  </thead>\n",
       "  <tbody>\n",
       "    <tr>\n",
       "      <th>0</th>\n",
       "      <td>DOUGLAS</td>\n",
       "      <td>35</td>\n",
       "    </tr>\n",
       "    <tr>\n",
       "      <th>1</th>\n",
       "      <td>OAKLAND</td>\n",
       "      <td>36</td>\n",
       "    </tr>\n",
       "    <tr>\n",
       "      <th>2</th>\n",
       "      <td>FULLER PARK</td>\n",
       "      <td>37</td>\n",
       "    </tr>\n",
       "    <tr>\n",
       "      <th>3</th>\n",
       "      <td>GRAND BOULEVARD</td>\n",
       "      <td>38</td>\n",
       "    </tr>\n",
       "    <tr>\n",
       "      <th>4</th>\n",
       "      <td>KENWOOD</td>\n",
       "      <td>39</td>\n",
       "    </tr>\n",
       "  </tbody>\n",
       "</table>\n",
       "</div>"
      ],
      "text/plain": [
       "         COMMUNITY  AREA_NUM_1\n",
       "0          DOUGLAS          35\n",
       "1          OAKLAND          36\n",
       "2      FULLER PARK          37\n",
       "3  GRAND BOULEVARD          38\n",
       "4          KENWOOD          39"
      ]
     },
     "execution_count": 71,
     "metadata": {},
     "output_type": "execute_result"
    }
   ],
   "source": [
    "#Chicago community areas dataset\n",
    "url = 'https://data.cityofchicago.org/api/views/igwz-8jzy/rows.csv?accessType=DOWNLOAD'\n",
    "comm_areas = pd.read_csv(url)\n",
    "\n",
    "#select only relevant columns\n",
    "comm_areas = comm_areas[['COMMUNITY', 'AREA_NUM_1']]\n",
    "\n",
    "print(comm_areas.shape)\n",
    "comm_areas.head()"
   ]
  },
  {
   "cell_type": "code",
   "execution_count": 72,
   "metadata": {},
   "outputs": [
    {
     "name": "stdout",
     "output_type": "stream",
     "text": [
      "(260194, 10)\n"
     ]
    },
    {
     "data": {
      "text/html": [
       "<div>\n",
       "<style scoped>\n",
       "    .dataframe tbody tr th:only-of-type {\n",
       "        vertical-align: middle;\n",
       "    }\n",
       "\n",
       "    .dataframe tbody tr th {\n",
       "        vertical-align: top;\n",
       "    }\n",
       "\n",
       "    .dataframe thead th {\n",
       "        text-align: right;\n",
       "    }\n",
       "</style>\n",
       "<table border=\"1\" class=\"dataframe\">\n",
       "  <thead>\n",
       "    <tr style=\"text-align: right;\">\n",
       "      <th></th>\n",
       "      <th>ID</th>\n",
       "      <th>Date</th>\n",
       "      <th>Primary Type</th>\n",
       "      <th>FBI Code</th>\n",
       "      <th>Arrest</th>\n",
       "      <th>Community Area</th>\n",
       "      <th>Year</th>\n",
       "      <th>Location</th>\n",
       "      <th>COMMUNITY</th>\n",
       "      <th>AREA_NUM_1</th>\n",
       "    </tr>\n",
       "  </thead>\n",
       "  <tbody>\n",
       "    <tr>\n",
       "      <th>0</th>\n",
       "      <td>12178229</td>\n",
       "      <td>02/01/2019 12:00:00 PM</td>\n",
       "      <td>OTHER OFFENSE</td>\n",
       "      <td>26</td>\n",
       "      <td>False</td>\n",
       "      <td>58</td>\n",
       "      <td>2019</td>\n",
       "      <td>NaN</td>\n",
       "      <td>BRIGHTON PARK</td>\n",
       "      <td>58</td>\n",
       "    </tr>\n",
       "    <tr>\n",
       "      <th>1</th>\n",
       "      <td>11888248</td>\n",
       "      <td>11/11/2019 02:10:00 AM</td>\n",
       "      <td>CRIMINAL SEXUAL ASSAULT</td>\n",
       "      <td>02</td>\n",
       "      <td>False</td>\n",
       "      <td>58</td>\n",
       "      <td>2019</td>\n",
       "      <td>(41.820435154, -87.687238839)</td>\n",
       "      <td>BRIGHTON PARK</td>\n",
       "      <td>58</td>\n",
       "    </tr>\n",
       "    <tr>\n",
       "      <th>2</th>\n",
       "      <td>11688242</td>\n",
       "      <td>05/15/2019 04:40:00 PM</td>\n",
       "      <td>ROBBERY</td>\n",
       "      <td>03</td>\n",
       "      <td>False</td>\n",
       "      <td>58</td>\n",
       "      <td>2019</td>\n",
       "      <td>(41.822362175, -87.690759851)</td>\n",
       "      <td>BRIGHTON PARK</td>\n",
       "      <td>58</td>\n",
       "    </tr>\n",
       "    <tr>\n",
       "      <th>3</th>\n",
       "      <td>12170160</td>\n",
       "      <td>07/01/2019 09:00:00 AM</td>\n",
       "      <td>CRIMINAL SEXUAL ASSAULT</td>\n",
       "      <td>02</td>\n",
       "      <td>False</td>\n",
       "      <td>58</td>\n",
       "      <td>2019</td>\n",
       "      <td>(41.813116223, -87.693130264)</td>\n",
       "      <td>BRIGHTON PARK</td>\n",
       "      <td>58</td>\n",
       "    </tr>\n",
       "    <tr>\n",
       "      <th>4</th>\n",
       "      <td>11840964</td>\n",
       "      <td>09/25/2019 07:58:00 PM</td>\n",
       "      <td>ROBBERY</td>\n",
       "      <td>03</td>\n",
       "      <td>False</td>\n",
       "      <td>58</td>\n",
       "      <td>2019</td>\n",
       "      <td>(41.822362175, -87.690759851)</td>\n",
       "      <td>BRIGHTON PARK</td>\n",
       "      <td>58</td>\n",
       "    </tr>\n",
       "  </tbody>\n",
       "</table>\n",
       "</div>"
      ],
      "text/plain": [
       "         ID                    Date             Primary Type FBI Code  Arrest  \\\n",
       "0  12178229  02/01/2019 12:00:00 PM            OTHER OFFENSE       26   False   \n",
       "1  11888248  11/11/2019 02:10:00 AM  CRIMINAL SEXUAL ASSAULT       02   False   \n",
       "2  11688242  05/15/2019 04:40:00 PM                  ROBBERY       03   False   \n",
       "3  12170160  07/01/2019 09:00:00 AM  CRIMINAL SEXUAL ASSAULT       02   False   \n",
       "4  11840964  09/25/2019 07:58:00 PM                  ROBBERY       03   False   \n",
       "\n",
       "   Community Area  Year                       Location      COMMUNITY  \\\n",
       "0              58  2019                            NaN  BRIGHTON PARK   \n",
       "1              58  2019  (41.820435154, -87.687238839)  BRIGHTON PARK   \n",
       "2              58  2019  (41.822362175, -87.690759851)  BRIGHTON PARK   \n",
       "3              58  2019  (41.813116223, -87.693130264)  BRIGHTON PARK   \n",
       "4              58  2019  (41.822362175, -87.690759851)  BRIGHTON PARK   \n",
       "\n",
       "   AREA_NUM_1  \n",
       "0          58  \n",
       "1          58  \n",
       "2          58  \n",
       "3          58  \n",
       "4          58  "
      ]
     },
     "execution_count": 72,
     "metadata": {},
     "output_type": "execute_result"
    }
   ],
   "source": [
    "#merge crime df and community areas df\n",
    "crimes = crimes.merge(comm_areas, left_on=\"Community Area\", \n",
    "                      right_on=\"AREA_NUM_1\", how=\"inner\")\n",
    "print(crimes.shape)\n",
    "crimes.head()"
   ]
  },
  {
   "cell_type": "code",
   "execution_count": 73,
   "metadata": {},
   "outputs": [
    {
     "data": {
      "text/html": [
       "<div>\n",
       "<style scoped>\n",
       "    .dataframe tbody tr th:only-of-type {\n",
       "        vertical-align: middle;\n",
       "    }\n",
       "\n",
       "    .dataframe tbody tr th {\n",
       "        vertical-align: top;\n",
       "    }\n",
       "\n",
       "    .dataframe thead th {\n",
       "        text-align: right;\n",
       "    }\n",
       "</style>\n",
       "<table border=\"1\" class=\"dataframe\">\n",
       "  <thead>\n",
       "    <tr style=\"text-align: right;\">\n",
       "      <th></th>\n",
       "      <th>COMMUNITY</th>\n",
       "      <th>COUNT</th>\n",
       "    </tr>\n",
       "  </thead>\n",
       "  <tbody>\n",
       "    <tr>\n",
       "      <th>5</th>\n",
       "      <td>AUSTIN</td>\n",
       "      <td>14720</td>\n",
       "    </tr>\n",
       "    <tr>\n",
       "      <th>47</th>\n",
       "      <td>NEAR NORTH SIDE</td>\n",
       "      <td>12568</td>\n",
       "    </tr>\n",
       "    <tr>\n",
       "      <th>41</th>\n",
       "      <td>LOOP</td>\n",
       "      <td>10585</td>\n",
       "    </tr>\n",
       "    <tr>\n",
       "      <th>49</th>\n",
       "      <td>NEAR WEST SIDE</td>\n",
       "      <td>9338</td>\n",
       "    </tr>\n",
       "    <tr>\n",
       "      <th>52</th>\n",
       "      <td>NORTH LAWNDALE</td>\n",
       "      <td>8960</td>\n",
       "    </tr>\n",
       "  </tbody>\n",
       "</table>\n",
       "</div>"
      ],
      "text/plain": [
       "          COMMUNITY  COUNT\n",
       "5            AUSTIN  14720\n",
       "47  NEAR NORTH SIDE  12568\n",
       "41             LOOP  10585\n",
       "49   NEAR WEST SIDE   9338\n",
       "52   NORTH LAWNDALE   8960"
      ]
     },
     "execution_count": 73,
     "metadata": {},
     "output_type": "execute_result"
    }
   ],
   "source": [
    "crimes_area = crimes.groupby(['COMMUNITY']).size().to_frame('COUNT').reset_index()\n",
    "\n",
    "#order in descending order\n",
    "crimes_area = crimes_area.sort_values(by='COUNT', axis=0, ascending=False)\n",
    "\n",
    "crimes_area.head()"
   ]
  },
  {
   "cell_type": "markdown",
   "metadata": {},
   "source": [
    "<b>Crimes in Hyde Park</b>"
   ]
  },
  {
   "cell_type": "code",
   "execution_count": 74,
   "metadata": {},
   "outputs": [
    {
     "data": {
      "text/html": [
       "<div>\n",
       "<style scoped>\n",
       "    .dataframe tbody tr th:only-of-type {\n",
       "        vertical-align: middle;\n",
       "    }\n",
       "\n",
       "    .dataframe tbody tr th {\n",
       "        vertical-align: top;\n",
       "    }\n",
       "\n",
       "    .dataframe thead th {\n",
       "        text-align: right;\n",
       "    }\n",
       "</style>\n",
       "<table border=\"1\" class=\"dataframe\">\n",
       "  <thead>\n",
       "    <tr style=\"text-align: right;\">\n",
       "      <th></th>\n",
       "      <th>ID</th>\n",
       "      <th>Date</th>\n",
       "      <th>Primary Type</th>\n",
       "      <th>FBI Code</th>\n",
       "      <th>Arrest</th>\n",
       "      <th>Community Area</th>\n",
       "      <th>Year</th>\n",
       "      <th>Location</th>\n",
       "      <th>COMMUNITY</th>\n",
       "      <th>AREA_NUM_1</th>\n",
       "    </tr>\n",
       "  </thead>\n",
       "  <tbody>\n",
       "    <tr>\n",
       "      <th>227397</th>\n",
       "      <td>11773477</td>\n",
       "      <td>07/27/2019 11:24:00 PM</td>\n",
       "      <td>ROBBERY</td>\n",
       "      <td>03</td>\n",
       "      <td>False</td>\n",
       "      <td>41</td>\n",
       "      <td>2019</td>\n",
       "      <td>(41.801307936, -87.584690956)</td>\n",
       "      <td>HYDE PARK</td>\n",
       "      <td>41</td>\n",
       "    </tr>\n",
       "    <tr>\n",
       "      <th>227398</th>\n",
       "      <td>11579004</td>\n",
       "      <td>01/27/2019 07:45:00 PM</td>\n",
       "      <td>ROBBERY</td>\n",
       "      <td>03</td>\n",
       "      <td>False</td>\n",
       "      <td>41</td>\n",
       "      <td>2019</td>\n",
       "      <td>(41.800538968, -87.598200112)</td>\n",
       "      <td>HYDE PARK</td>\n",
       "      <td>41</td>\n",
       "    </tr>\n",
       "    <tr>\n",
       "      <th>227399</th>\n",
       "      <td>11846823</td>\n",
       "      <td>10/01/2019 12:58:00 PM</td>\n",
       "      <td>SEX OFFENSE</td>\n",
       "      <td>17</td>\n",
       "      <td>False</td>\n",
       "      <td>41</td>\n",
       "      <td>2019</td>\n",
       "      <td>(41.788699253, -87.604954085)</td>\n",
       "      <td>HYDE PARK</td>\n",
       "      <td>41</td>\n",
       "    </tr>\n",
       "    <tr>\n",
       "      <th>227400</th>\n",
       "      <td>11705819</td>\n",
       "      <td>05/30/2019 11:55:00 PM</td>\n",
       "      <td>ROBBERY</td>\n",
       "      <td>03</td>\n",
       "      <td>False</td>\n",
       "      <td>41</td>\n",
       "      <td>2019</td>\n",
       "      <td>(41.787713898, -87.588240934)</td>\n",
       "      <td>HYDE PARK</td>\n",
       "      <td>41</td>\n",
       "    </tr>\n",
       "    <tr>\n",
       "      <th>227401</th>\n",
       "      <td>12081505</td>\n",
       "      <td>12/05/2019 12:00:00 PM</td>\n",
       "      <td>MOTOR VEHICLE THEFT</td>\n",
       "      <td>07</td>\n",
       "      <td>False</td>\n",
       "      <td>41</td>\n",
       "      <td>2019</td>\n",
       "      <td>(41.79453743, -87.580435129)</td>\n",
       "      <td>HYDE PARK</td>\n",
       "      <td>41</td>\n",
       "    </tr>\n",
       "  </tbody>\n",
       "</table>\n",
       "</div>"
      ],
      "text/plain": [
       "              ID                    Date         Primary Type FBI Code  \\\n",
       "227397  11773477  07/27/2019 11:24:00 PM              ROBBERY       03   \n",
       "227398  11579004  01/27/2019 07:45:00 PM              ROBBERY       03   \n",
       "227399  11846823  10/01/2019 12:58:00 PM          SEX OFFENSE       17   \n",
       "227400  11705819  05/30/2019 11:55:00 PM              ROBBERY       03   \n",
       "227401  12081505  12/05/2019 12:00:00 PM  MOTOR VEHICLE THEFT       07   \n",
       "\n",
       "        Arrest  Community Area  Year                       Location  \\\n",
       "227397   False              41  2019  (41.801307936, -87.584690956)   \n",
       "227398   False              41  2019  (41.800538968, -87.598200112)   \n",
       "227399   False              41  2019  (41.788699253, -87.604954085)   \n",
       "227400   False              41  2019  (41.787713898, -87.588240934)   \n",
       "227401   False              41  2019   (41.79453743, -87.580435129)   \n",
       "\n",
       "        COMMUNITY  AREA_NUM_1  \n",
       "227397  HYDE PARK          41  \n",
       "227398  HYDE PARK          41  \n",
       "227399  HYDE PARK          41  \n",
       "227400  HYDE PARK          41  \n",
       "227401  HYDE PARK          41  "
      ]
     },
     "execution_count": 74,
     "metadata": {},
     "output_type": "execute_result"
    }
   ],
   "source": [
    "#Select only hp data\n",
    "crimes_hp = crimes[crimes.COMMUNITY == 'HYDE PARK']\n",
    "crimes_hp.head()"
   ]
  },
  {
   "cell_type": "code",
   "execution_count": 75,
   "metadata": {},
   "outputs": [
    {
     "data": {
      "text/html": [
       "<div>\n",
       "<style scoped>\n",
       "    .dataframe tbody tr th:only-of-type {\n",
       "        vertical-align: middle;\n",
       "    }\n",
       "\n",
       "    .dataframe tbody tr th {\n",
       "        vertical-align: top;\n",
       "    }\n",
       "\n",
       "    .dataframe thead th {\n",
       "        text-align: right;\n",
       "    }\n",
       "</style>\n",
       "<table border=\"1\" class=\"dataframe\">\n",
       "  <thead>\n",
       "    <tr style=\"text-align: right;\">\n",
       "      <th></th>\n",
       "      <th>Primary Type</th>\n",
       "      <th>COUNT</th>\n",
       "    </tr>\n",
       "  </thead>\n",
       "  <tbody>\n",
       "    <tr>\n",
       "      <th>20</th>\n",
       "      <td>THEFT</td>\n",
       "      <td>603</td>\n",
       "    </tr>\n",
       "    <tr>\n",
       "      <th>1</th>\n",
       "      <td>BATTERY</td>\n",
       "      <td>254</td>\n",
       "    </tr>\n",
       "    <tr>\n",
       "      <th>7</th>\n",
       "      <td>DECEPTIVE PRACTICE</td>\n",
       "      <td>181</td>\n",
       "    </tr>\n",
       "    <tr>\n",
       "      <th>4</th>\n",
       "      <td>CRIMINAL DAMAGE</td>\n",
       "      <td>136</td>\n",
       "    </tr>\n",
       "    <tr>\n",
       "      <th>0</th>\n",
       "      <td>ASSAULT</td>\n",
       "      <td>125</td>\n",
       "    </tr>\n",
       "  </tbody>\n",
       "</table>\n",
       "</div>"
      ],
      "text/plain": [
       "          Primary Type  COUNT\n",
       "20               THEFT    603\n",
       "1              BATTERY    254\n",
       "7   DECEPTIVE PRACTICE    181\n",
       "4      CRIMINAL DAMAGE    136\n",
       "0              ASSAULT    125"
      ]
     },
     "execution_count": 75,
     "metadata": {},
     "output_type": "execute_result"
    }
   ],
   "source": [
    "#group data by crime type\n",
    "crimes_hp = crimes_hp.groupby(['Primary Type']).size().to_frame('COUNT').reset_index()\n",
    "crimes_hp = crimes_hp.sort_values(by='COUNT', axis=0, ascending=False)\n",
    "\n",
    "crimes_hp.head()"
   ]
  },
  {
   "cell_type": "code",
   "execution_count": 76,
   "metadata": {},
   "outputs": [
    {
     "data": {
      "image/png": "[encoded data removed]",
      "text/plain": [
       "<Figure size 432x288 with 1 Axes>"
      ]
     },
     "metadata": {
      "needs_background": "light"
     },
     "output_type": "display_data"
    }
   ],
   "source": [
    "crimes_hp.plot.bar(x='Primary Type', y='COUNT');"
   ]
  }
 ],
 "metadata": {
  "kernelspec": {
   "display_name": "Python 3",
   "language": "python",
   "name": "python3"
  },
  "language_info": {
   "codemirror_mode": {
    "name": "ipython",
    "version": 3
   },
   "file_extension": ".py",
   "mimetype": "text/x-python",
   "name": "python",
   "nbconvert_exporter": "python",
   "pygments_lexer": "ipython3",
   "version": "3.7.7"
  }
 },
 "nbformat": 4,
 "nbformat_minor": 4
}
